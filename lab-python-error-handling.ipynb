{
 "cells": [
  {
   "cell_type": "markdown",
   "id": "25d7736c-ba17-4aff-b6bb-66eba20fbf4e",
   "metadata": {},
   "source": [
    "# Lab | Error Handling"
   ]
  },
  {
   "cell_type": "markdown",
   "id": "bc99b386-7508-47a0-bcdb-d969deaf6c8b",
   "metadata": {},
   "source": [
    "## Exercise: Error Handling for Managing Customer Orders\n",
    "\n",
    "The implementation of your code for managing customer orders assumes that the user will always enter a valid input. \n",
    "\n",
    "For example, we could modify the `initialize_inventory` function to include error handling.\n",
    "   - If the user enters an invalid quantity (e.g., a negative value or a non-numeric value), display an error message and ask them to re-enter the quantity for that product.\n",
    "   - Use a try-except block to handle the error and continue prompting the user until a valid quantity is entered.\n",
    "\n",
    "```python\n",
    "# Step 1: Define the function for initializing the inventory with error handling\n",
    "def initialize_inventory(products):\n",
    "    inventory = {}\n",
    "    for product in products:\n",
    "        valid_quantity = False\n",
    "        while not valid_quantity:\n",
    "            try:\n",
    "                quantity = int(input(f\"Enter the quantity of {product}s available: \"))\n",
    "                if quantity < 0:\n",
    "                    raise ValueError(\"Invalid quantity! Please enter a non-negative value.\")\n",
    "                valid_quantity = True\n",
    "            except ValueError as error:\n",
    "                print(f\"Error: {error}\")\n",
    "        inventory[product] = quantity\n",
    "    return inventory\n",
    "\n",
    "# Or, in another way:\n",
    "\n",
    "def initialize_inventory(products):\n",
    "    inventory = {}\n",
    "    for product in products:\n",
    "        valid_input = False\n",
    "        while not valid_input:\n",
    "            try:\n",
    "                quantity = int(input(f\"Enter the quantity of {product}s available: \"))\n",
    "                if quantity >= 0:\n",
    "                    inventory[product] = quantity\n",
    "                    valid_input = True\n",
    "                else:\n",
    "                    print(\"Quantity cannot be negative. Please enter a valid quantity.\")\n",
    "            except ValueError:\n",
    "                print(\"Invalid input. Please enter a valid quantity.\")\n",
    "    return inventory\n",
    "```\n",
    "\n",
    "Let's enhance your code by implementing error handling to handle invalid inputs.\n",
    "\n",
    "Follow the steps below to complete the exercise:\n",
    "\n",
    "2. Modify the `calculate_total_price` function to include error handling.\n",
    "   - If the user enters an invalid price (e.g., a negative value or a non-numeric value), display an error message and ask them to re-enter the price for that product.\n",
    "   - Use a try-except block to handle the error and continue prompting the user until a valid price is entered.\n",
    "\n",
    "3. Modify the `get_customer_orders` function to include error handling.\n",
    "   - If the user enters an invalid number of orders (e.g., a negative value or a non-numeric value), display an error message and ask them to re-enter the number of orders.\n",
    "   - If the user enters an invalid product name (e.g., a product name that is not in the inventory), or that doesn't have stock available, display an error message and ask them to re-enter the product name. *Hint: you will need to pass inventory as a parameter*\n",
    "   - Use a try-except block to handle the error and continue prompting the user until a valid product name is entered.\n",
    "\n",
    "4. Test your code by running the program and deliberately entering invalid quantities and product names. Make sure the error handling mechanism works as expected.\n"
   ]
  },
  {
   "cell_type": "code",
   "execution_count": 1,
   "id": "fe52a9ba",
   "metadata": {},
   "outputs": [],
   "source": [
    "def initialize_inventory(products):\n",
    "    \"\"\"\n",
    "    initialize_inventory that takes products as a parameter. \n",
    "    Inside the function, implement the code for initializing the inventory dictionary using a loop and user input\n",
    "    \n",
    "    \"\"\"\n",
    "    inventory = {}\n",
    "    for product in products:\n",
    "        valid_quantity = False \n",
    "        while not valid_quantity:\n",
    "            try:\n",
    "                quantity = input(f'Number of {product} available: ')\n",
    "                if int(quantity) > 0: \n",
    "                    inventory[product] = int(quantity)\n",
    "                    valid_quantity = True\n",
    "                else:\n",
    "                    print(\"Quantity cannot be negative. Please enter a valid quantity.\")\n",
    "            except ValueError:\n",
    "                print(\"Invalid input. Please enter a valid quantity.\")\n",
    "    return inventory"
   ]
  },
  {
   "cell_type": "code",
   "execution_count": 2,
   "id": "34c33168",
   "metadata": {},
   "outputs": [],
   "source": [
    "def get_customer_orders(products):\n",
    "    \"\"\"\n",
    "    Inside the function, implement the code for prompting the user to enter the product names using a loop.\n",
    "    The function should return the customer_orders set.\n",
    "    \"\"\"\n",
    "    customer_orders = set() # create customer cart\n",
    "    moreorders = True\n",
    "    while moreorders:\n",
    "        try:\n",
    "            order = input('Enter the name of your product ')# ask for user input\n",
    "            while order not in products: # input validation\n",
    "                order = input(f'Please type a product in {products} ')# ask for user input\n",
    "                customer_orders.add(order)\n",
    "            \n",
    "            tmp = input(\"Want to order something else? Type 'Yes' or 'No':\")\n",
    "            while tmp !='Yes' and tmp != 'No':\n",
    "                tmp = input(\"Want to order something else? Type 'Yes' or 'No': \")# ask for user input\n",
    "                if tmp == 'Yes':\n",
    "                    moreorders = True\n",
    "                else:\n",
    "                    moreorders = False\n",
    "        except Exception as e:\n",
    "            print(f'An error occured: {e}')\n",
    "    return customer_orders"
   ]
  },
  {
   "cell_type": "code",
   "execution_count": 3,
   "id": "8d46d3af",
   "metadata": {},
   "outputs": [],
   "source": [
    "def total_price(customer_orders):\n",
    "    \"\"\"For each product in customer_orders, prompt the user to enter the price of that product.\n",
    "        Use comprehension to calculate the total price. \"\"\"\n",
    "    price_list = []\n",
    "    for p in customer_orders:\n",
    "        valid_quantity = 0\n",
    "        while valid_quantity != len(customer_orders):\n",
    "            try:\n",
    "                product_prices = int((input(f'Price of the product {p}: ')))\n",
    "                if product_prices >= 0 :\n",
    "                    price_list.append(product_prices)\n",
    "                    valid_quantity += 1 \n",
    "                else:\n",
    "                    print(\"Quantity cannot be negative. Please enter a valid quantity.\")\n",
    "            except ValueError:\n",
    "                     print(\"Invalid input. Please enter a valid quantity.\")\n",
    "    return sum(price_list)"
   ]
  },
  {
   "cell_type": "code",
   "execution_count": 4,
   "id": "6d3f115b",
   "metadata": {},
   "outputs": [
    {
     "name": "stdout",
     "output_type": "stream",
     "text": [
      "Number of t-shirt available: 3\n",
      "Number of mug available: 4\n",
      "Enter the name of your product mug\n",
      "Want to order something else? Type 'Yes' or 'No':no\n",
      "Want to order something else? Type 'Yes' or 'No': No\n"
     ]
    }
   ],
   "source": [
    "p = [\"t-shirt\", \"mug\"]#, \"hat\", \"book\", \"keychain\"]\n",
    "inventory = initialize_inventory(p)\n",
    "customer_orders = get_customer_orders(p)\n",
    "total_price=total_price(customer_orders)"
   ]
  },
  {
   "cell_type": "code",
   "execution_count": 5,
   "id": "0b7f8cb6",
   "metadata": {},
   "outputs": [],
   "source": [
    "def update_inventory(customer_orders,inventory):\n",
    "    \"\"\"Inside the function, implement the code for updating the inventory dictionary based on the customer orders.\"\"\"\n",
    "    inventory_local = inventory.copy()\n",
    "    for product in customer_orders:\n",
    "        inventory_local[product]-=1\n",
    "    return inventory_local\n",
    "\n",
    "def calculate_order_statistics(customer_orders,inventory):\n",
    "    \"\"\"Inside the function, implement the code for calculating the order statistics \n",
    "    (total products ordered, and percentage of unique products ordered). The function should return these values.\"\"\"\n",
    "    total_products = len(customer_orders)\n",
    "    percentage_unique_products = sum(inventory.values())\n",
    "    return total_products,percentage_unique_products\n",
    "\n",
    "def print_order_statistics(statistics_tuple):\n",
    "    \"\"\"\n",
    "    Inside the function, implement the code for printing the order statistics.\n",
    "    \"\"\"\n",
    "    print(f'''Order Statistics:\n",
    "Total Products Ordered: {statistics_tuple[0]}\n",
    "Percentage of Products Ordered: {statistics_tuple[1]}% ''')\n",
    "\n",
    "def print_updated_inventory(inventory):\n",
    "    \"\"\"Inside the function, implement the code for printing the updated inventory.\"\"\"\n",
    "    print(f'The inventory after customer purchase is :{inventory}')\n",
    "    "
   ]
  },
  {
   "cell_type": "code",
   "execution_count": 6,
   "id": "4c50e586",
   "metadata": {},
   "outputs": [
    {
     "name": "stdout",
     "output_type": "stream",
     "text": [
      "Order Statistics:\n",
      "Total Products Ordered: 0\n",
      "Percentage of Products Ordered: 7% \n",
      "The inventory after customer purchase is :{'t-shirt': 3, 'mug': 4}\n"
     ]
    }
   ],
   "source": [
    "inventory = update_inventory(customer_orders,inventory)\n",
    "# update_inventory_using_global(customer_orders,inventory) can be used but it is not best practices\n",
    "statistics_tuple = calculate_order_statistics(customer_orders,inventory)\n",
    "print_order_statistics(statistics_tuple)\n",
    "print_updated_inventory(inventory)"
   ]
  }
 ],
 "metadata": {
  "kernelspec": {
   "display_name": "Python 3 (ipykernel)",
   "language": "python",
   "name": "python3"
  },
  "language_info": {
   "codemirror_mode": {
    "name": "ipython",
    "version": 3
   },
   "file_extension": ".py",
   "mimetype": "text/x-python",
   "name": "python",
   "nbconvert_exporter": "python",
   "pygments_lexer": "ipython3",
   "version": "3.11.5"
  }
 },
 "nbformat": 4,
 "nbformat_minor": 5
}
